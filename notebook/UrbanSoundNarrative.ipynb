{
 "cells": [
  {
   "cell_type": "markdown",
   "id": "3fba3fba",
   "metadata": {},
   "source": [
    "# Urban Sound Narrative\n",
    "\n",
    "A Project that turns the day to day sound to a beautiful narration "
   ]
  },
  {
   "cell_type": "markdown",
   "id": "fa118316",
   "metadata": {},
   "source": [
    "### Installing Dependencies"
   ]
  },
  {
   "cell_type": "code",
   "execution_count": 21,
   "id": "81e22b0d",
   "metadata": {},
   "outputs": [
    {
     "name": "stdout",
     "output_type": "stream",
     "text": [
      "Note: you may need to restart the kernel to use updated packages.\n"
     ]
    }
   ],
   "source": [
    "# For google collab:\n",
    "\n",
    "# !pip install --quiet librosa torch torchaudio gtts ipywidgets\n",
    "\n",
    "# Local Jupyter Notebook\n",
    "\n",
    "%pip install --quiet librosa torch torchaudio gtts ipywidgets"
   ]
  },
  {
   "cell_type": "markdown",
   "id": "76107c62",
   "metadata": {},
   "source": [
    "## Importing Libraries"
   ]
  },
  {
   "cell_type": "code",
   "execution_count": 22,
   "id": "2a7b0909",
   "metadata": {},
   "outputs": [],
   "source": [
    "import librosa\n",
    "import torch\n",
    "import torchaudio\n",
    "from gtts import gTTS\n",
    "import ipywidgets as widgets \n",
    "from IPython.display import display, Audio\n",
    "import os\n",
    "import time"
   ]
  },
  {
   "cell_type": "code",
   "execution_count": 23,
   "id": "567508e4",
   "metadata": {},
   "outputs": [],
   "source": [
    "upload_button = widgets.FileUpload(accept='.wav, .mp3', multiple=False)"
   ]
  },
  {
   "cell_type": "code",
   "execution_count": 24,
   "id": "b1c6d849",
   "metadata": {},
   "outputs": [],
   "source": [
    "def preprocess(audio_path, target_sr=22050, top_db=25):\n",
    "    y, sr = librosa.load(audio_path, sr=target_sr)\n",
    "    if y.ndim > 1:\n",
    "        y = librosa.to_mono(y)\n",
    "    y = librosa.util.normalize(y)\n",
    "    return y, sr"
   ]
  },
  {
   "cell_type": "code",
   "execution_count": 25,
   "id": "bcfdcd83",
   "metadata": {},
   "outputs": [],
   "source": [
    "def detect_sounds(waveform, sample_rate):\n",
    "    # Calculate audio duration\n",
    "    duration = librosa.get_duration(y=waveform, sr=sample_rate)\n",
    "    \n",
    "    # Mock sound detection based on duration\n",
    "    sound_list = []\n",
    "    if duration < 10:\n",
    "        sound_list = [\"car horns\", \"footsteps\"]\n",
    "    else:\n",
    "        sound_list = [\"car horns\", \"footsteps\", \"chattering\", \"dog barking\"]\n",
    "    \n",
    "    print(f\"Detected sounds (mock): {sound_list}\")\n",
    "    return sound_list"
   ]
  },
  {
   "cell_type": "code",
   "execution_count": 26,
   "id": "c5415ac1",
   "metadata": {},
   "outputs": [
    {
     "data": {
      "application/vnd.jupyter.widget-view+json": {
       "model_id": "f0ec00bcd41f42b1b50575375c4150c7",
       "version_major": 2,
       "version_minor": 0
      },
      "text/plain": [
       "FileUpload(value=(), accept='.wav, .mp3', description='Upload')"
      ]
     },
     "metadata": {},
     "output_type": "display_data"
    },
    {
     "data": {
      "application/vnd.jupyter.widget-view+json": {
       "model_id": "0d9009e77b904a5e887390fbae27ad59",
       "version_major": 2,
       "version_minor": 0
      },
      "text/plain": [
       "Output()"
      ]
     },
     "metadata": {},
     "output_type": "display_data"
    }
   ],
   "source": [
    "output = widgets.Output()\n",
    "\n",
    "def on_upload_change(change):\n",
    "    with output:\n",
    "        output.clear_output()\n",
    "        try:\n",
    "            # Get the uploaded file\n",
    "            uploaded_file = change['new'][0]\n",
    "            \n",
    "            # Generate a unique file path\n",
    "            timestamp = str(int(time.time()))\n",
    "            file_path = os.path.join('data', 'raw', f'audio_{timestamp}.wav')\n",
    "            os.makedirs(os.path.dirname(file_path), exist_ok=True)\n",
    "            \n",
    "            # Save the file\n",
    "            with open(file_path, 'wb') as f:\n",
    "                f.write(uploaded_file['content'])\n",
    "            \n",
    "            # Preprocess the audio\n",
    "            y, sr = preprocess(file_path)\n",
    "            \n",
    "            # Detect sounds\n",
    "            sounds = detect_sounds(y, sr)\n",
    "            \n",
    "            # Display the output\n",
    "            print(f\"Audio loaded and preprocessed. Sample rate: {sr}, Shape: {y.shape}\")\n",
    "            display(Audio(y, rate=sr))  # Audio output\n",
    "            print(f\"Detected sounds: {sounds}\")\n",
    "            \n",
    "            # Store globally for later use\n",
    "            global waveform, sample_rate\n",
    "            waveform, sample_rate = y, sr\n",
    "            \n",
    "        except Exception as e:\n",
    "            print(f\"Error processing audio: {str(e)}\")\n",
    "\n",
    "# Display widgets and link the handler\n",
    "display(upload_button, output)\n",
    "upload_button.observe(on_upload_change, names='value')"
   ]
  },
  {
   "cell_type": "code",
   "execution_count": null,
   "id": "080381f8",
   "metadata": {},
   "outputs": [],
   "source": []
  }
 ],
 "metadata": {
  "kernelspec": {
   "display_name": "Python 3",
   "language": "python",
   "name": "python3"
  },
  "language_info": {
   "codemirror_mode": {
    "name": "ipython",
    "version": 3
   },
   "file_extension": ".py",
   "mimetype": "text/x-python",
   "name": "python",
   "nbconvert_exporter": "python",
   "pygments_lexer": "ipython3",
   "version": "3.12.12"
  }
 },
 "nbformat": 4,
 "nbformat_minor": 5
}
