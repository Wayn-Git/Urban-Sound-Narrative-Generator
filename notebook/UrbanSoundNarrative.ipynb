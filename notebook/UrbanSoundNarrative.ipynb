{
 "cells": [
  {
   "cell_type": "markdown",
   "id": "3fba3fba",
   "metadata": {},
   "source": [
    "# Urban Sound Narrative\n",
    "\n",
    "A Project that turns the day to day sound to a beautiful narration "
   ]
  },
  {
   "cell_type": "markdown",
   "id": "fa118316",
   "metadata": {},
   "source": [
    "### Installing Dependencies"
   ]
  },
  {
   "cell_type": "code",
   "execution_count": 5,
   "id": "81e22b0d",
   "metadata": {},
   "outputs": [
    {
     "name": "stdout",
     "output_type": "stream",
     "text": [
      "Note: you may need to restart the kernel to use updated packages.\n"
     ]
    }
   ],
   "source": [
    "# For google collab:\n",
    "\n",
    "# !pip install --quiet librosa torch torchaudio gtts ipywidgets tensorflow tensorflow_hub\n",
    "\n",
    "# Local Jupyter Notebook\n",
    "\n",
    "%pip install --quiet librosa torch torchaudio gtts ipywidgets"
   ]
  },
  {
   "cell_type": "markdown",
   "id": "76107c62",
   "metadata": {},
   "source": [
    "## Importing Libraries"
   ]
  },
  {
   "cell_type": "code",
   "execution_count": 14,
   "id": "567508e4",
   "metadata": {},
   "outputs": [],
   "source": [
    "import librosa\n",
    "import numpy as np\n",
    "import requests\n",
    "import json\n",
    "from pathlib import Path\n",
    "import os\n",
    "\n",
    "import soundfile as sf\n",
    "from sklearn.preprocessing import MultiLabelBinarizer"
   ]
  },
  {
   "cell_type": "code",
   "execution_count": 11,
   "id": "b2ba5254",
   "metadata": {},
   "outputs": [],
   "source": [
    "raw_audio_path = \"../data/raw/city_sounds.mp3\"\n",
    "preprocessed_path = \"../data/processed\""
   ]
  },
  {
   "cell_type": "code",
   "execution_count": 17,
   "id": "b1c6d849",
   "metadata": {},
   "outputs": [],
   "source": [
    "# Preprocessing the Audio using librosa \n",
    "# This steps involve the following:\n",
    "\"\"\"Converting the audio to Mono channel, and making sure the sample rate is 16Hz\"\"\"\n",
    "\n",
    "def preprocess_audio(audio_path, target_sr=16000):\n",
    "    audio, sr = librosa.load(audio_path, sr=None)\n",
    "    print(f\"Audio: {audio}, SR: {sr}\")\n",
    "\n",
    "    print(f\"Shape: {audio.shape}, Len: {len(audio)}\")\n",
    "    if sr != target_sr:\n",
    "        audio = librosa.resample(audio, orig_sr=sr, target_sr=target_sr)\n",
    "    if len(audio.shape) > 1:\n",
    "        audio = librosa.to_mono(audio)\n",
    "    print(f\"Audio len after mono: {audio}\")\n",
    "    audio = audio / np.max(np.abs(audio))\n",
    "    output_path = os.path.join(preprocessed_path, \"preprocessed_audio.wav\")\n",
    "    sf.write(output_path, audio, target_sr)\n",
    "    return output_path, sr"
   ]
  },
  {
   "cell_type": "markdown",
   "id": "14f7f70c",
   "metadata": {},
   "source": [
    "Testing"
   ]
  },
  {
   "cell_type": "code",
   "execution_count": 18,
   "id": "bcfdcd83",
   "metadata": {},
   "outputs": [
    {
     "name": "stdout",
     "output_type": "stream",
     "text": [
      "Audio: [0.00000000e+00 0.00000000e+00 0.00000000e+00 ... 4.16944118e-07\n",
      " 1.46511340e-07 1.02268004e-07], SR: 44100\n",
      "Shape: (884736,), Len: 884736\n",
      "Audio len after mono: [9.4589547e-10 7.4039741e-10 8.5627172e-11 ... 3.8616520e-07 5.0218404e-07\n",
      " 2.0078872e-07]\n"
     ]
    },
    {
     "data": {
      "text/plain": [
       "('../data/processed/preprocessed_audio.wav', 44100)"
      ]
     },
     "execution_count": 18,
     "metadata": {},
     "output_type": "execute_result"
    }
   ],
   "source": [
    "preprocess_audio(raw_audio_path)"
   ]
  },
  {
   "cell_type": "code",
   "execution_count": 19,
   "id": "c5415ac1",
   "metadata": {},
   "outputs": [],
   "source": [
    "# Feature extraction for the model\n",
    "\n",
    "import librosa\n",
    "import numpy as np\n",
    "\n",
    "def extract_features(audio_path, target_sr=16000, n_mfcc=40, n_mels=128):\n",
    "    # 1. Load the audio\n",
    "    audio, sr = librosa.load(audio_path, sr=target_sr)\n",
    "    \n",
    "    # 2. Mel-spectrogram\n",
    "    mel_spec = librosa.feature.melspectrogram(\n",
    "        y=audio,\n",
    "        sr=sr,\n",
    "        n_mels=n_mels,\n",
    "        fmax=sr//2\n",
    "    )\n",
    "    \n",
    "    # Convert power to decibel scale (more perceptually meaningful)\n",
    "    mel_spec_db = librosa.power_to_db(mel_spec, ref=np.max)\n",
    "    \n",
    "    # 3. MFCCs (summarized version of the mel-spectrogram)\n",
    "    mfcc = librosa.feature.mfcc(\n",
    "        y=audio,\n",
    "        sr=sr,\n",
    "        n_mfcc=n_mfcc\n",
    "    )\n",
    "    \n",
    "    # 4. Normalize\n",
    "    mfcc = (mfcc - np.mean(mfcc)) / np.std(mfcc)\n",
    "    \n",
    "    return mel_spec_db, mfcc\n"
   ]
  }
 ],
 "metadata": {
  "kernelspec": {
   "display_name": "Python 3",
   "language": "python",
   "name": "python3"
  },
  "language_info": {
   "codemirror_mode": {
    "name": "ipython",
    "version": 3
   },
   "file_extension": ".py",
   "mimetype": "text/x-python",
   "name": "python",
   "nbconvert_exporter": "python",
   "pygments_lexer": "ipython3",
   "version": "3.12.12"
  }
 },
 "nbformat": 4,
 "nbformat_minor": 5
}
